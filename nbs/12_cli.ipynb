{
 "cells": [
  {
   "cell_type": "code",
   "execution_count": 1,
   "id": "510ed03d-0c3b-4caf-910d-e6eaec08fd63",
   "metadata": {},
   "outputs": [],
   "source": [
    "#|default_exp cli"
   ]
  },
  {
   "cell_type": "code",
   "execution_count": 2,
   "id": "6a35c7c4-748f-4c82-a9bf-c780a8d83e90",
   "metadata": {},
   "outputs": [],
   "source": [
    "#|export\n",
    "from __future__ import annotations\n",
    "import warnings\n",
    "\n",
    "from nbdev.read import *\n",
    "from nbdev.sync import *\n",
    "from nbdev.process import *\n",
    "from nbdev.processors import *\n",
    "from nbdev.doclinks import *\n",
    "from nbdev.test import *\n",
    "from nbdev.clean import *\n",
    "\n",
    "from execnb.nbio import *\n",
    "from fastcore.utils import *\n",
    "from fastcore.script import call_parse\n",
    "from fastcore.style import S\n",
    "from fastcore.shutil import rmtree,move\n",
    "\n",
    "from os import system\n",
    "from urllib.error import HTTPError\n",
    "from contextlib import redirect_stdout\n",
    "import os, tarfile, subprocess, sys, shutil"
   ]
  },
  {
   "cell_type": "markdown",
   "id": "cc6f00ff",
   "metadata": {},
   "source": []
  },
  {
   "cell_type": "code",
   "execution_count": 3,
   "id": "1e623a3d-3e77-44c6-adf3-4768b78328c5",
   "metadata": {},
   "outputs": [],
   "source": [
    "#|hide\n",
    "from fastcore.test import *"
   ]
  },
  {
   "cell_type": "markdown",
   "id": "82f1d405-9652-4991-9a2c-24cae862ce46",
   "metadata": {},
   "source": [
    "# cli\n",
    "> CLI commands"
   ]
  },
  {
   "cell_type": "code",
   "execution_count": 4,
   "id": "422ba492",
   "metadata": {},
   "outputs": [],
   "source": [
    "#|export\n",
    "@call_parse\n",
    "def prepare():\n",
    "    \"Export, test, and clean notebooks\"\n",
    "    nbdev_export.__wrapped__()\n",
    "    nbdev_test.__wrapped__()\n",
    "    nbdev_clean.__wrapped__()"
   ]
  },
  {
   "cell_type": "markdown",
   "id": "dcd4994b",
   "metadata": {},
   "source": [
    "### Sidebar -"
   ]
  },
  {
   "cell_type": "code",
   "execution_count": 5,
   "id": "8abd3b62",
   "metadata": {},
   "outputs": [],
   "source": [
    "#|export\n",
    "_def_file_re = '\\.(?:ipynb|qmd|html)$'\n",
    "\n",
    "def _f(a,b): return Path(a),b\n",
    "def _pre(p,b=True): return '    ' * (len(p.parts)) + ('- ' if b else '  ')\n",
    "def _sort(a):\n",
    "    x,y = a\n",
    "    if y.startswith('index.'): return x,'00'\n",
    "    return a\n",
    "\n",
    "@call_parse\n",
    "def nbdev_sidebar(\n",
    "    path:str=None, # Path to notebooks\n",
    "    symlinks:bool=False, # Follow symlinks?\n",
    "    file_glob:str=None, # Only include files matching glob\n",
    "    file_re:str=_def_file_re, # Only include files matching regex\n",
    "    folder_re:str=None, # Only enter folders matching regex\n",
    "    skip_file_glob:str=None, # Skip files matching glob\n",
    "    skip_file_re:str='^[_.]', # Skip files matching regex\n",
    "    skip_folder_re:str='(?:^[_.]|^www$)', # Skip folders matching regex\n",
    "    printit:bool=False,  # Print YAML for debugging\n",
    "    force:bool=False,  # Create sidebar even if settings.ini custom_sidebar=False\n",
    "    returnit:bool=False  # Return list of files found\n",
    "):\n",
    "    \"Create sidebar.yml\"\n",
    "    if not force and str2bool(get_config().custom_sidebar): return\n",
    "    path = get_config().path('nbs_path') if not path else Path(path)\n",
    "    files = nbglob(path, func=_f, symlinks=symlinks, file_re=file_re, folder_re=folder_re, file_glob=file_glob,\n",
    "                   skip_file_glob=skip_file_glob, skip_file_re=skip_file_re, skip_folder_re=skip_folder_re).sorted(key=_sort)\n",
    "    lastd,res = Path(),[]\n",
    "    for d,name in files:\n",
    "        d = d.relative_to(path)\n",
    "        if d != lastd:\n",
    "            res.append(_pre(d.parent) + f'section: {d.name}')\n",
    "            res.append(_pre(d.parent, False) + 'contents:')\n",
    "            lastd = d\n",
    "        res.append(f'{_pre(d)}{d.joinpath(name)}')\n",
    "\n",
    "    yml_path = path/'sidebar.yml'\n",
    "    yml = \"website:\\n  sidebar:\\n    contents:\\n\"\n",
    "    yml += '\\n'.join(f'      {o}' for o in res)\n",
    "    if printit: return print(yml)\n",
    "    yml_path.write_text(yml)\n",
    "    if returnit: return files"
   ]
  },
  {
   "cell_type": "code",
   "execution_count": 6,
   "id": "7b04052d",
   "metadata": {},
   "outputs": [],
   "source": [
    "# nbdev_sidebar(printit=True, force=True)"
   ]
  },
  {
   "cell_type": "markdown",
   "id": "e9fc60a8",
   "metadata": {},
   "source": [
    "### Filter -"
   ]
  },
  {
   "cell_type": "code",
   "execution_count": 7,
   "id": "c3b89ff6",
   "metadata": {},
   "outputs": [],
   "source": [
    "#|export\n",
    "class FilterDefaults:\n",
    "    \"Override `FilterDefaults` to change which notebook processors are used\"\n",
    "    def _nothing(self): return []\n",
    "    xtra_procs=xtra_preprocs=xtra_postprocs=_nothing\n",
    "    \n",
    "    def base_preprocs(self): return [populate_language, infer_frontmatter, add_show_docs, insert_warning]\n",
    "    def base_postprocs(self): return []\n",
    "    def base_procs(self):\n",
    "        return [nbflags_, lang_identify, strip_ansi, hide_line, filter_stream_, rm_header_dash,\n",
    "                clean_show_doc, exec_show_docs, rm_export, clean_magics, hide_, add_links, strip_hidden_metadata]\n",
    "\n",
    "    def procs(self):\n",
    "        \"Processors for export\"\n",
    "        return self.base_procs() + self.xtra_procs()\n",
    "\n",
    "    def preprocs(self):\n",
    "        \"Preprocessors for export\"\n",
    "        return self.base_preprocs() + self.xtra_preprocs()\n",
    "\n",
    "    def postprocs(self):\n",
    "        \"Postprocessors for export\"\n",
    "        return self.base_postprocs() + self.xtra_postprocs()\n",
    "    \n",
    "    def nb_proc(self, nb):\n",
    "        \"Get an `NBProcessor` with these processors\"\n",
    "        return NBProcessor(nb=nb, procs=self.procs(), preprocs=self.preprocs(), postprocs=self.postprocs())"
   ]
  },
  {
   "cell_type": "code",
   "execution_count": 8,
   "id": "86c29369",
   "metadata": {},
   "outputs": [],
   "source": [
    "#|export\n",
    "@call_parse\n",
    "def nbdev_filter(\n",
    "    nb_txt:str=None,  # Notebook text (uses stdin if not provided)\n",
    "    fname:str=None,  # Notebook to read (uses `nb_txt` if not provided)\n",
    "):\n",
    "    \"A notebook filter for Quarto\"\n",
    "    os.environ[\"IN_TEST\"] = \"1\"\n",
    "    try: filt = get_config().get('exporter', FilterDefaults)()\n",
    "    except FileNotFoundError: filt = FilterDefaults()\n",
    "    printit = False\n",
    "    if fname: nb_txt = Path(fname).read_text()\n",
    "    elif not nb_txt: nb_txt,printit = sys.stdin.read(),True\n",
    "    nb = dict2nb(loads(nb_txt))\n",
    "    if printit:\n",
    "        with open(os.devnull, 'w') as dn:\n",
    "            with redirect_stdout(dn): filt.nb_proc(nb).process()\n",
    "    else: filt.nb_proc(nb).process()\n",
    "    res = nb2str(nb)\n",
    "    del os.environ[\"IN_TEST\"]\n",
    "    if printit: print(res, flush=True)\n",
    "    else: return res"
   ]
  },
  {
   "cell_type": "code",
   "execution_count": 9,
   "id": "fe4dc8bf",
   "metadata": {},
   "outputs": [],
   "source": [
    "#|hide\n",
    "# print(nbdev_filter(fname='/Users/jhoward/git/nbdev/nbs/06_merge.ipynb'))"
   ]
  },
  {
   "cell_type": "markdown",
   "id": "68597be3-333d-4c5c-ad8d-c7c14a62e851",
   "metadata": {},
   "source": [
    "## Bump Version -"
   ]
  },
  {
   "cell_type": "code",
   "execution_count": 10,
   "id": "2969c044",
   "metadata": {},
   "outputs": [],
   "source": [
    "#|export\n",
    "def bump_version(version, part=2, unbump=False):\n",
    "    version = version.split('.')\n",
    "    incr = -1 if unbump else 1\n",
    "    version[part] = str(int(version[part]) + incr)\n",
    "    for i in range(part+1, 3): version[i] = '0'\n",
    "    return '.'.join(version)"
   ]
  },
  {
   "cell_type": "code",
   "execution_count": 11,
   "id": "b505ba72",
   "metadata": {},
   "outputs": [],
   "source": [
    "#|export\n",
    "@call_parse\n",
    "def nbdev_bump_version(\n",
    "    part:int=2,  # Part of version to bump\n",
    "    unbump:bool=False):  # Reduce version instead of increasing it\n",
    "    \"Increment version in settings.ini by one\"\n",
    "    cfg = get_config()\n",
    "    print(f'Old version: {cfg.version}')\n",
    "    cfg.d['version'] = bump_version(get_config().version, part, unbump=unbump)\n",
    "    cfg.save()\n",
    "    update_version()\n",
    "    nbdev_export.__wrapped__()\n",
    "    print(f'New version: {cfg.version}')"
   ]
  },
  {
   "cell_type": "markdown",
   "id": "3e7e76f7-7b19-4347-a52b-c33ad15d2178",
   "metadata": {},
   "source": [
    "## Bootstrap A New Project - "
   ]
  },
  {
   "cell_type": "code",
   "execution_count": 12,
   "id": "a1c001af-2c7c-4e0b-8c7d-a7d40c08f5e9",
   "metadata": {},
   "outputs": [],
   "source": [
    "#|export\n",
    "def extract_tgz(url, dest='.'):\n",
    "    from fastcore.net import urlopen\n",
    "    with urlopen(url) as u: tarfile.open(mode='r:gz', fileobj=u).extractall(dest)"
   ]
  },
  {
   "cell_type": "code",
   "execution_count": 13,
   "id": "cbedb5a8",
   "metadata": {},
   "outputs": [],
   "source": [
    "#|export\n",
    "def _mk_cfg(**kwargs): return {k: kwargs.get(k,None) for k in 'lib_name user branch author author_email keywords description repo'.split()}"
   ]
  },
  {
   "cell_type": "code",
   "execution_count": 14,
   "id": "d21b9697-8d1b-4d11-b2ea-83c20ac82e10",
   "metadata": {},
   "outputs": [],
   "source": [
    "#|export\n",
    "def _get_info(owner, repo, default_branch='main', default_kw='nbdev'):\n",
    "    from ghapi.all import GhApi\n",
    "    api = GhApi(owner=owner, repo=repo, token=os.getenv('GITHUB_TOKEN'))\n",
    "    \n",
    "    try: r = api.repos.get()\n",
    "    except HTTPError:\n",
    "        msg= [f\"\"\"Could not access repo: {owner}/{repo} to find your default branch - `{default_branch} assumed.\n",
    "Edit `settings.ini` if this is incorrect.\n",
    "In the future, you can allow nbdev to see private repos by setting the environment variable GITHUB_TOKEN as described here:\n",
    "https://nbdev.fast.ai/cli.html#Using-nbdev_new-with-private-repos\n",
    "\"\"\"]\n",
    "        print(''.join(msg))\n",
    "        return (default_branch,default_kw,'')\n",
    "    \n",
    "    return r.default_branch, default_kw if not r.topics else ' '.join(r.topics), r.description"
   ]
  },
  {
   "cell_type": "code",
   "execution_count": 15,
   "id": "8d1125db-977a-4119-85e4-6e3586064ed0",
   "metadata": {},
   "outputs": [],
   "source": [
    "#|hide\n",
    "if os.getenv('GITHUB_ACTIONS') != 'true': # GITHUB_TOKEN in actions has limited scope.\n",
    "    _branch, _tags, _descrip = _get_info('fastai', 'fastai')\n",
    "    test_eq(_tags, 'colab deep-learning fastai gpu machine-learning notebooks python pytorch')\n",
    "    test_eq(_branch, 'master')\n",
    "    test_eq(_descrip, 'The fastai deep learning library')"
   ]
  },
  {
   "cell_type": "code",
   "execution_count": 16,
   "id": "fafdcb43-c0c6-4709-9c03-057ea55cc45e",
   "metadata": {},
   "outputs": [],
   "source": [
    "#|export\n",
    "def _fetch_from_git(raise_err=False):\n",
    "    \"Get information for settings.ini from the user.\"\n",
    "    res={}\n",
    "    try:\n",
    "        url = run('git config --get remote.origin.url')\n",
    "        res['user'],res['repo'] = repo_details(url)\n",
    "        res['branch'],res['keywords'],desc = _get_info(owner=res['user'], repo=res['repo'])\n",
    "        if desc: res['description'] = desc\n",
    "        res['author'] = run('git config --get user.name').strip() # below two lines attempt to pull from global user config\n",
    "        res['author_email'] = run('git config --get user.email').strip()\n",
    "    except OSError as e:\n",
    "        if raise_err: raise(e)\n",
    "    else: res['lib_name'] = res['repo'].replace('-','_')\n",
    "    return res"
   ]
  },
  {
   "cell_type": "code",
   "execution_count": 17,
   "id": "f894cfa3-fff2-4d0a-886d-150a86649d25",
   "metadata": {},
   "outputs": [],
   "source": [
    "#|hide\n",
    "#test_eq(_fetch_from_git(raise_err=True)['lib_name'], 'nbdev')"
   ]
  },
  {
   "cell_type": "code",
   "execution_count": 18,
   "id": "30bfe283",
   "metadata": {},
   "outputs": [],
   "source": [
    "#|export\n",
    "def prompt_user(cfg, inferred):\n",
    "    \"Let user input values not in `cfg` or `inferred`.\"\n",
    "    print(S.dark_gray('# settings.ini'))\n",
    "    res = cfg.copy()\n",
    "    for k,v in cfg.items():\n",
    "        inf = inferred.get(k,None)\n",
    "        msg = S.light_blue(k) + ' = '\n",
    "        if v is None:\n",
    "            if inf is None: res[k] = input(f'# Please enter a value for {k}\\n'+msg)\n",
    "            else:\n",
    "                res[k] = inf\n",
    "                print(msg+res[k]+' # Automatically inferred from git')\n",
    "        else: print(msg+str(v))\n",
    "    return res"
   ]
  },
  {
   "cell_type": "code",
   "execution_count": 19,
   "id": "f3cd72a9-0ae4-45f9-884a-aa8f6d71fb33",
   "metadata": {},
   "outputs": [],
   "source": [
    "#|export\n",
    "_quarto_yml=\"\"\"ipynb-filters: [nbdev_filter]\n",
    "\n",
    "project:\n",
    "  type: website\n",
    "  output-dir: {doc_path}\n",
    "  preview:\n",
    "    port: 3000\n",
    "    browser: false\n",
    "\n",
    "format:\n",
    "  html:\n",
    "    theme: cosmo\n",
    "    css: styles.css\n",
    "    toc: true\n",
    "    toc-depth: 4\n",
    "\n",
    "website:\n",
    "  title: \"{title}\"\n",
    "  site-url: \"{doc_host}{doc_baseurl}\"\n",
    "  description: \"{description}\"\n",
    "  execute: \n",
    "    enabled: false\n",
    "  twitter-card: true\n",
    "  open-graph: true\n",
    "  reader-mode: true\n",
    "  repo-branch: {branch}\n",
    "  repo-url: \"{git_url}\"\n",
    "  repo-actions: [issue]\n",
    "  navbar:\n",
    "    background: primary\n",
    "    search: true\n",
    "    right:\n",
    "      - icon: github\n",
    "        href: \"{git_url}\"\n",
    "  sidebar:\n",
    "    style: \"floating\"\n",
    "\n",
    "metadata-files: \n",
    "  - sidebar.yml\n",
    "  - custom.yml\n",
    "\"\"\"\n",
    "\n",
    "def refresh_quarto_yml():\n",
    "    \"Generate `_quarto.yml` from `settings.ini`.\"\n",
    "    cfg = get_config()\n",
    "    p = cfg.path('nbs_path')/'_quarto.yml'\n",
    "    vals = {k:cfg.get(k) for k in ['doc_path', 'title', 'description', 'branch', 'git_url', 'doc_host', 'doc_baseurl']}\n",
    "    # Do not build _quarto_yml if custom_quarto_yml is set to True\n",
    "    if str2bool(get_config().custom_quarto_yml): return\n",
    "    if 'title' not in vals: vals['title'] = vals['lib_name']\n",
    "    yml=_quarto_yml.format(**vals)\n",
    "    p.write_text(yml)"
   ]
  },
  {
   "cell_type": "code",
   "execution_count": 20,
   "id": "c4a663d9",
   "metadata": {},
   "outputs": [],
   "source": [
    "#|export\n",
    "@call_parse\n",
    "def nbdev_new(lib_name: str=None): # Package name (default: inferred from repo name)\n",
    "    \"Create a new project from the current git repo\"\n",
    "    override = locals()\n",
    "    from fastcore.net import urljson\n",
    "    cfg = _mk_cfg(**override)\n",
    "    inferred = _fetch_from_git()\n",
    "    config = prompt_user(cfg, inferred)\n",
    "    # download and untar template, and optionally notebooks\n",
    "    tgnm = urljson('https://api.github.com/repos/fastai/nbdev-template/releases/latest')['tag_name']\n",
    "    FILES_URL = f\"https://github.com/fastai/nbdev-template/archive/{tgnm}.tar.gz\"\n",
    "    extract_tgz(FILES_URL)\n",
    "    path = Path()\n",
    "    nbexists = True if first(path.glob('*.ipynb')) else False\n",
    "    for o in (path/f'nbdev-template-{tgnm}').ls():\n",
    "        if o.name == 'index.ipynb':\n",
    "            new_txt = o.read_text().replace('your_lib', config['lib_name'])\n",
    "            o.write_text(new_txt)\n",
    "        if o.name == '00_core.ipynb':\n",
    "            if not nbexists: move(str(o), './')\n",
    "        elif not Path(f'./{o.name}').exists(): move(str(o), './')\n",
    "    rmtree(f'nbdev-template-{tgnm}')\n",
    "\n",
    "    # auto-config settings.ini from git\n",
    "    settings_path = Path('settings.ini')\n",
    "    settings = settings_path.read_text()\n",
    "    settings = settings.format(**config)\n",
    "    settings_path.write_text(settings)\n",
    "    refresh_quarto_yml()\n",
    "\n",
    "    nbdev_export.__wrapped__()"
   ]
  },
  {
   "cell_type": "markdown",
   "id": "fd5c9b32",
   "metadata": {},
   "source": [
    "## Quarto"
   ]
  },
  {
   "cell_type": "code",
   "execution_count": 21,
   "id": "aae2d2be-ad03-4536-bf70-c4575f39cea3",
   "metadata": {},
   "outputs": [],
   "source": [
    "#|export\n",
    "def _sprun(cmd):\n",
    "    try: subprocess.check_output(cmd, shell=True)\n",
    "    except subprocess.CalledProcessError as cpe: sys.exit(cpe.returncode)"
   ]
  },
  {
   "cell_type": "code",
   "execution_count": 22,
   "id": "7580d48f-e10e-4bb0-937e-90645b5dfd08",
   "metadata": {},
   "outputs": [],
   "source": [
    "#|export\n",
    "BASE_QUARTO_URL='https://www.quarto.org/download/latest/'\n",
    "\n",
    "def _install_linux():\n",
    "    system(f'curl -LO {BASE_QUARTO_URL}quarto-linux-amd64.deb')\n",
    "    system('dpkg -x quarto*.deb .')\n",
    "    system('mv opt/quarto ./')\n",
    "    system('rmdir opt')\n",
    "    system('mkdir -p ~/.local/bin')\n",
    "    system('ln -s \"$(pwd)\"/quarto/bin/quarto ~/.local/bin')\n",
    "    system('rm quarto*.deb')\n",
    "    \n",
    "def _install_mac():\n",
    "    system(f'curl -LO {BASE_QUARTO_URL}quarto-macos.pkg')\n",
    "    system('sudo installer -pkg quarto-macos.pkg -target /')\n",
    "\n",
    "def install_quarto():\n",
    "    \"Install latest Quarto on macOS or Linux, prints instructions for Windows\"\n",
    "    if sys.platform not in ('darwin','linux'):\n",
    "        return print('Please visit https://quarto.org/docs/get-started/ to install quarto')\n",
    "    print(\"Installing or upgrading quarto -- this may require root access.\")\n",
    "    system('touch .installing')\n",
    "    try:\n",
    "        installing = Path('.installing')\n",
    "        if not installing.exists(): return print(\"Cancelled. Please download and install Quarto from quarto.org.\")\n",
    "        if 'darwin' in sys.platform: _install_mac()\n",
    "        elif 'linux' in sys.platform: _install_linux()\n",
    "    finally: system('rm -f .installing')\n",
    "    \n",
    "def install():\n",
    "    \"Install Quarto and the current library\"\n",
    "    install_quarto()\n",
    "    d = get_config().path('lib_path')\n",
    "    if (d/'__init__.py').exists(): system(f'pip install -e \"{d.parent}[dev]\"')"
   ]
  },
  {
   "cell_type": "code",
   "execution_count": 23,
   "id": "5192dfae",
   "metadata": {},
   "outputs": [],
   "source": [
    "#|export\n",
    "def _doc_paths(path:str=None, doc_path:str=None):\n",
    "    cfg = get_config()\n",
    "    cfg_path = cfg.config_path\n",
    "    path = cfg.path('nbs_path') if not path else Path(path)\n",
    "    doc_path = cfg.path('doc_path') if not doc_path else Path(doc_path)\n",
    "    tmp_doc_path = path/f\"{cfg['doc_path']}\"\n",
    "    return cfg,cfg_path,path,doc_path,tmp_doc_path"
   ]
  },
  {
   "cell_type": "code",
   "execution_count": 24,
   "id": "9080eebd",
   "metadata": {},
   "outputs": [],
   "source": [
    "#|export\n",
    "def _render_readme(path):\n",
    "    idx_path = path/get_config().readme_nb\n",
    "    if not idx_path.exists(): return\n",
    "\n",
    "    yml_path = path/'sidebar.yml'\n",
    "    moved=False\n",
    "    if yml_path.exists():\n",
    "        # move out of the way to avoid rendering whole website\n",
    "        yml_path.rename(path/'sidebar.yml.bak')\n",
    "        moved=True\n",
    "    try:\n",
    "        _sprun(f'cd \"{path}\" && quarto render \"{idx_path}\" -o README.md -t gfm --no-execute')\n",
    "    finally:\n",
    "        if moved: (path/'sidebar.yml.bak').rename(yml_path)"
   ]
  },
  {
   "cell_type": "code",
   "execution_count": 25,
   "id": "4e995496",
   "metadata": {},
   "outputs": [],
   "source": [
    "#|export\n",
    "@call_parse\n",
    "def nbdev_readme(\n",
    "    path:str=None, # Path to notebooks\n",
    "    doc_path:str=None): # Path to output docs\n",
    "    \"Render README.md from index.ipynb\"\n",
    "    cfg,cfg_path,path,doc_path,tmp_doc_path = _doc_paths(path, doc_path)\n",
    "    _render_readme(path)\n",
    "    if (tmp_doc_path/'README.md').exists():\n",
    "        _rdm = cfg_path/'README.md'\n",
    "        if _rdm.exists(): _rdm.unlink() # py37 doesn't have arg missing_ok so have to check first\n",
    "        move(str(tmp_doc_path/'README.md'), cfg_path) # README.md is temporarily in nbs/_docs"
   ]
  },
  {
   "cell_type": "code",
   "execution_count": 26,
   "id": "ba297c19",
   "metadata": {},
   "outputs": [],
   "source": [
    "#|export\n",
    "def _ensure_quarto():\n",
    "    if shutil.which('quarto'): return\n",
    "    print(\"Quarto is not installed. We will download and install it for you.\")\n",
    "    install()"
   ]
  },
  {
   "cell_type": "code",
   "execution_count": 27,
   "id": "0efe744e",
   "metadata": {},
   "outputs": [],
   "source": [
    "#|export\n",
    "@call_parse\n",
    "def nbdev_quarto(\n",
    "    path:str=None, # Path to notebooks\n",
    "    doc_path:str=None, # Path to output docs\n",
    "    symlinks:bool=False, # Follow symlinks?\n",
    "    file_re:str=_def_file_re, # Only include files matching regex\n",
    "    folder_re:str=None, # Only enter folders matching regex\n",
    "    skip_file_glob:str=None, # Skip files matching glob\n",
    "    skip_file_re:str=None, # Skip files matching regex\n",
    "    preview:bool=False # Preview the site instead of building it\n",
    "):\n",
    "    \"Create Quarto docs and README.md\"\n",
    "    _ensure_quarto()\n",
    "    cfg,cfg_path,path,doc_path,tmp_doc_path = _doc_paths(path, doc_path)\n",
    "    refresh_quarto_yml()\n",
    "    nbdev_sidebar.__wrapped__(path, symlinks=symlinks, file_re=file_re, folder_re=folder_re,\n",
    "                              skip_file_glob=skip_file_glob, skip_file_re=skip_file_re)\n",
    "    if preview: os.system(f'cd \"{path}\" && quarto preview --no-execute')\n",
    "    else: _sprun(f'cd \"{path}\" && quarto render --no-execute')\n",
    "    if not preview:\n",
    "        nbdev_readme.__wrapped__(path, doc_path)\n",
    "        if tmp_doc_path.parent != cfg_path: # move docs folder to root of repo if it doesn't exist there\n",
    "            rmtree(doc_path, ignore_errors=True)\n",
    "            move(tmp_doc_path, cfg_path)"
   ]
  },
  {
   "cell_type": "code",
   "execution_count": 28,
   "id": "f5ddbc96",
   "metadata": {},
   "outputs": [],
   "source": [
    "#|export\n",
    "@call_parse\n",
    "def preview(\n",
    "    path:str=None, # Path to notebooks\n",
    "    doc_path:str=None, # Path to output docs\n",
    "    symlinks:bool=False, # Follow symlinks?\n",
    "    file_re:str=_def_file_re, # Only include files matching regex\n",
    "    folder_re:str=None, # Only enter folders matching regex\n",
    "    skip_file_glob:str=None, # Skip files matching glob\n",
    "    skip_file_re:str=None, # Skip files matching regex\n",
    "):\n",
    "    \"Preview docs locally\"\n",
    "    nbdev_quarto.__wrapped__(path, doc_path=doc_path, symlinks=symlinks, file_re=file_re, folder_re=folder_re,\n",
    "                             skip_file_glob=skip_file_glob, skip_file_re=skip_file_re, preview=True)"
   ]
  },
  {
   "cell_type": "code",
   "execution_count": 29,
   "id": "a5c29641",
   "metadata": {},
   "outputs": [],
   "source": [
    "#|export\n",
    "@call_parse\n",
    "def deploy(\n",
    "    path:str=None, # Path to notebooks\n",
    "    doc_path:str=None, # Path to output docs\n",
    "    skip_build:bool=False,  # Don't build docs first\n",
    "    symlinks:bool=False, # Follow symlinks?\n",
    "    file_re:str=_def_file_re, # Only include files matching regex\n",
    "    folder_re:str=None, # Only enter folders matching regex\n",
    "    skip_file_glob:str=None, # Skip files matching glob\n",
    "    skip_file_re:str=None, # Skip files matching regex\n",
    "):\n",
    "    \"Deploy docs to GitHub Pages\"\n",
    "    if not skip_build:\n",
    "        nbdev_quarto.__wrapped__(path, doc_path=doc_path, symlinks=symlinks, file_re=file_re, folder_re=folder_re,\n",
    "                                 skip_file_glob=skip_file_glob, skip_file_re=skip_file_re)\n",
    "    try: from ghp_import import ghp_import\n",
    "    except: return warnings.warn('Please install ghp-import with `pip install ghp-import`')\n",
    "    ghp_import(get_config().path('doc_path'), push=True, stderr=True, no_history=True)"
   ]
  },
  {
   "cell_type": "markdown",
   "id": "280e0d6d-6559-4fc3-9478-320ce5eff0dc",
   "metadata": {},
   "source": [
    "## Help"
   ]
  },
  {
   "cell_type": "code",
   "execution_count": 30,
   "id": "e34f6ff4-f85b-4805-b406-121279cc9246",
   "metadata": {},
   "outputs": [],
   "source": [
    "#|export\n",
    "@call_parse\n",
    "def chelp():\n",
    "    \"Show help for all console scripts\"\n",
    "    from fastcore.xtras import console_help\n",
    "    console_help('nbdev')"
   ]
  },
  {
   "cell_type": "code",
   "execution_count": 31,
   "id": "b50d27fb-c343-47e2-a008-7ebdd02e1356",
   "metadata": {},
   "outputs": [
    {
     "name": "stdout",
     "output_type": "stream",
     "text": [
      "\u001b[1m\u001b[94mnbdev_bump_version\u001b[0m              Increment version in settings.ini by one\n",
      "\u001b[1m\u001b[94mnbdev_changelog\u001b[0m                 Create a CHANGELOG.md file from closed and labeled GitHub issues\n",
      "\u001b[1m\u001b[94mnbdev_clean\u001b[0m                     Clean all notebooks in `fname` to avoid merge conflicts\n",
      "\u001b[1m\u001b[94mnbdev_conda\u001b[0m                     Create a `meta.yaml` file ready to be built into a package, and optionally build and upload it\n",
      "\u001b[1m\u001b[94mnbdev_create_config\u001b[0m             Create a config file\n",
      "\u001b[1m\u001b[94mnbdev_deploy\u001b[0m                    Deploy docs to GitHub Pages\n",
      "\u001b[1m\u001b[94mnbdev_docs\u001b[0m                      Create Quarto docs and README.md\n",
      "\u001b[1m\u001b[94mnbdev_export\u001b[0m                    Export notebooks in `path` to Python modules\n",
      "\u001b[1m\u001b[94mnbdev_filter\u001b[0m                    A notebook filter for Quarto\n",
      "\u001b[1m\u001b[94mnbdev_fix\u001b[0m                       Create working notebook from conflicted notebook `nbname`\n",
      "\u001b[1m\u001b[94mnbdev_help\u001b[0m                      Show help for all console scripts\n",
      "\u001b[1m\u001b[94mnbdev_install\u001b[0m                   Install Quarto and the current library\n",
      "\u001b[1m\u001b[94mnbdev_install_hooks\u001b[0m             Install Jupyter and git hooks to automatically clean, trust, and fix merge conflicts in notebooks\n",
      "\u001b[1m\u001b[94mnbdev_install_quarto\u001b[0m            Install latest Quarto on macOS or Linux, prints instructions for Windows\n",
      "\u001b[1m\u001b[94mnbdev_merge\u001b[0m                     Git merge driver for notebooks\n",
      "\u001b[1m\u001b[94mnbdev_migrate\u001b[0m                   Convert all directives and callouts in `fname` from v1 to v2\n",
      "\u001b[1m\u001b[94mnbdev_new\u001b[0m                       Create a new project from the current git repo\n",
      "\u001b[1m\u001b[94mnbdev_prepare\u001b[0m                   Export, test, and clean notebooks\n",
      "\u001b[1m\u001b[94mnbdev_preview\u001b[0m                   Preview docs locally\n",
      "\u001b[1m\u001b[94mnbdev_pypi\u001b[0m                      Create and upload Python package to PyPI\n",
      "\u001b[1m\u001b[94mnbdev_quarto\u001b[0m                    Create Quarto docs and README.md\n",
      "\u001b[1m\u001b[94mnbdev_readme\u001b[0m                    Render README.md from index.ipynb\n",
      "\u001b[1m\u001b[94mnbdev_release_both\u001b[0m              Release both conda and PyPI packages\n",
      "\u001b[1m\u001b[94mnbdev_release_gh\u001b[0m                Calls `nbdev_changelog`, lets you edit the result, then pushes to git and calls `nbdev_release_git`\n",
      "\u001b[1m\u001b[94mnbdev_release_git\u001b[0m               Tag and create a release in GitHub for the current version\n",
      "\u001b[1m\u001b[94mnbdev_sidebar\u001b[0m                   Create sidebar.yml\n",
      "\u001b[1m\u001b[94mnbdev_test\u001b[0m                      Test in parallel notebooks matching `fname`, passing along `flags`\n",
      "\u001b[1m\u001b[94mnbdev_trust\u001b[0m                     Trust notebooks matching `fname`\n",
      "\u001b[1m\u001b[94mnbdev_update\u001b[0m                    Propagate change in modules matching `fname` to notebooks that created them\n"
     ]
    }
   ],
   "source": [
    "chelp()"
   ]
  },
  {
   "cell_type": "markdown",
   "id": "aa35b010",
   "metadata": {},
   "source": [
    "## Export -"
   ]
  },
  {
   "cell_type": "code",
   "execution_count": 32,
   "id": "3d8031ce",
   "metadata": {},
   "outputs": [],
   "source": [
    "#|hide\n",
    "import nbdev; nbdev.nbdev_export()"
   ]
  },
  {
   "cell_type": "code",
   "execution_count": null,
   "id": "12588a26-43a6-42c4-bacd-896293c871ab",
   "metadata": {},
   "outputs": [],
   "source": []
  }
 ],
 "metadata": {
  "kernelspec": {
   "display_name": "Python 3.10.6 ('nbdev_ws2-orezFWEl')",
   "language": "python",
   "name": "python3"
  },
  "language_info": {
   "codemirror_mode": {
    "name": "ipython",
    "version": 3
   },
   "file_extension": ".py",
   "mimetype": "text/x-python",
   "name": "python",
   "nbconvert_exporter": "python",
   "pygments_lexer": "ipython3",
   "version": "3.10.6"
  },
  "vscode": {
   "interpreter": {
    "hash": "b072e7aee3c29da68676d2a46b0f013633a36ba65a541e7779b3c3a277f4bd6c"
   }
  }
 },
 "nbformat": 4,
 "nbformat_minor": 5
}
